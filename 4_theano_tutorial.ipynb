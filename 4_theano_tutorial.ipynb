{
 "cells": [
  {
   "cell_type": "markdown",
   "metadata": {},
   "source": [
    "# My Theano Tutorial"
   ]
  },
  {
   "cell_type": "markdown",
   "metadata": {},
   "source": [
    "## 1.简介"
   ]
  },
  {
   "cell_type": "markdown",
   "metadata": {},
   "source": [
    "初次接触Theano的时候，完全没有明白为什么要把function的定义搞得这么麻烦。\n",
    "\n",
    "后来接触到了Tensorflow，突然想起来和Theano好像，在Theano中定义一个function和Tensorflow中跑一个session.run()，简直不要太像。都使用到了feed和fetch的概念。\n",
    "\n",
    "之前看cs224d的时候，助教把Tensorflow和Numpy进行类比，并说它们的很多架构很像。但上我觉得这是一种误导性的。因为实际上，Theano和Tensorflow都是一种符号计算框架，与其说像Numpy，莫不如说像SymPy。由于是符号运算，所以一些基础的运算，这些框架都要自己实现一遍。这可以给我们提供一个强大的功能，自动求导。\n",
    "\n",
    "根据链式法则，我们可以通过一个表达式的图模型，自动地推算出导数。大神colah这里又有[一篇博客](http://colah.github.io/posts/2015-08-Backprop/)，再次生动形象地描绘了自动求导的机制。OK，说了这么多废话，接下来通过代码，很多来自[官网](http://deeplearning.net/software/theano/tutorial/)，来对Theano有一个基本的了解。"
   ]
  },
  {
   "cell_type": "markdown",
   "metadata": {},
   "source": [
    "## 2.basic use"
   ]
  },
  {
   "cell_type": "code",
   "execution_count": 2,
   "metadata": {
    "collapsed": false
   },
   "outputs": [
    {
     "name": "stderr",
     "output_type": "stream",
     "text": [
      "Using gpu device 0: GeForce GTX 960M (CNMeM is disabled, cuDNN not available)\n"
     ]
    }
   ],
   "source": [
    "import numpy\n",
    "import theano\n",
    "import theano.tensor as T\n",
    "from theano import function  "
   ]
  },
  {
   "cell_type": "markdown",
   "metadata": {},
   "source": [
    "定义一个function："
   ]
  },
  {
   "cell_type": "code",
   "execution_count": 3,
   "metadata": {
    "collapsed": true
   },
   "outputs": [],
   "source": [
    "x = T.dscalar('x')\n",
    "y = T.dscalar('y')\n",
    "z = x + y\n",
    "f = function([x, y], z)"
   ]
  },
  {
   "cell_type": "code",
   "execution_count": 4,
   "metadata": {
    "collapsed": false
   },
   "outputs": [
    {
     "data": {
      "text/plain": [
       "array(5.0)"
      ]
     },
     "execution_count": 4,
     "metadata": {},
     "output_type": "execute_result"
    }
   ],
   "source": [
    "f(2, 3)"
   ]
  },
  {
   "cell_type": "markdown",
   "metadata": {},
   "source": [
    "解释下，上面的代码中，x，y被称为**符号变量**，dscalar中的d代表类型double，scalar代表数据是标量。其他的组合如下：\n",
    "\n",
    "- byte: bscalar, bvector, bmatrix, brow, bcol, btensor3, btensor4\n",
    "- 16-bit integers: wscalar, wvector, wmatrix, wrow, wcol, wtensor3, wtensor4\n",
    "- 32-bit integers: iscalar, ivector, imatrix, irow, icol, itensor3, itensor4\n",
    "- 64-bit integers: lscalar, lvector, lmatrix, lrow, lcol, ltensor3, ltensor4\n",
    "- float: fscalar, fvector, fmatrix, frow, fcol, ftensor3, ftensor4\n",
    "- double: dscalar, dvector, dmatrix, drow, dcol, dtensor3, dtensor4\n",
    "- complex: cscalar, cvector, cmatrix, crow, ccol, ctensor3, ctensor4\n",
    "\n",
    "稍微复杂一点，两个输出："
   ]
  },
  {
   "cell_type": "code",
   "execution_count": 5,
   "metadata": {
    "collapsed": true
   },
   "outputs": [],
   "source": [
    "x = T.dscalar('x')\n",
    "y = T.dscalar('y')\n",
    "z = x + y\n",
    "n_x = -x\n",
    "f = function([x, y], [z,n_x])"
   ]
  },
  {
   "cell_type": "code",
   "execution_count": 6,
   "metadata": {
    "collapsed": false
   },
   "outputs": [
    {
     "data": {
      "text/plain": [
       "[array(5.0), array(-2.0)]"
      ]
     },
     "execution_count": 6,
     "metadata": {},
     "output_type": "execute_result"
    }
   ],
   "source": [
    "f(2, 3)"
   ]
  },
  {
   "cell_type": "markdown",
   "metadata": {},
   "source": [
    "将function以图片的方式输出，需要先安装pydot，graphviz"
   ]
  },
  {
   "cell_type": "code",
   "execution_count": 7,
   "metadata": {
    "collapsed": false
   },
   "outputs": [
    {
     "data": {
      "image/svg+xml": [
       "<svg height=\"204pt\" viewBox=\"0.00 0.00 460.08 204.00\" width=\"460pt\" xmlns=\"http://www.w3.org/2000/svg\" xmlns:xlink=\"http://www.w3.org/1999/xlink\">\n",
       "<g class=\"graph\" id=\"graph0\" transform=\"scale(1 1) rotate(0) translate(4 200)\">\n",
       "<title>G</title>\n",
       "<polygon fill=\"white\" points=\"-4,4 -4,-200 456.081,-200 456.081,4 -4,4\" stroke=\"none\"/>\n",
       "<!-- 140437588396816 -->\n",
       "<g class=\"node\" id=\"node1\"><title>140437588396816</title>\n",
       "<ellipse cx=\"108.54\" cy=\"-91\" fill=\"#ffaabb\" rx=\"108.581\" ry=\"18\" stroke=\"black\"/>\n",
       "<text font-family=\"Times,serif\" font-size=\"14.00\" text-anchor=\"middle\" x=\"108.54\" y=\"-87.3\">Elemwise{neg,no_inplace}</text>\n",
       "</g>\n",
       "<!-- 140437588397008 -->\n",
       "<g class=\"node\" id=\"node3\"><title>140437588397008</title>\n",
       "<polygon fill=\"blue\" points=\"192.54,-36 24.5404,-36 24.5404,-0 192.54,-0 192.54,-36\" stroke=\"black\"/>\n",
       "<text font-family=\"Times,serif\" font-size=\"14.00\" text-anchor=\"middle\" x=\"108.54\" y=\"-14.3\">TensorType(float64, scalar)</text>\n",
       "</g>\n",
       "<!-- 140437588396816&#45;&gt;140437588397008 -->\n",
       "<g class=\"edge\" id=\"edge2\"><title>140437588396816-&gt;140437588397008</title>\n",
       "<path d=\"M108.54,-72.8129C108.54,-64.7895 108.54,-55.0475 108.54,-46.0691\" fill=\"none\" stroke=\"black\"/>\n",
       "<polygon fill=\"black\" points=\"112.04,-46.0288 108.54,-36.0288 105.04,-46.0289 112.04,-46.0288\" stroke=\"black\"/>\n",
       "</g>\n",
       "<!-- 140437588394128 -->\n",
       "<g class=\"node\" id=\"node2\"><title>140437588394128</title>\n",
       "<polygon fill=\"green\" points=\"217.04,-196 0.0403691,-196 0.0403691,-160 217.04,-160 217.04,-196\" stroke=\"black\"/>\n",
       "<text font-family=\"Times,serif\" font-size=\"14.00\" text-anchor=\"middle\" x=\"108.54\" y=\"-174.3\">name=x TensorType(float64, scalar)</text>\n",
       "</g>\n",
       "<!-- 140437588394128&#45;&gt;140437588396816 -->\n",
       "<g class=\"edge\" id=\"edge1\"><title>140437588394128-&gt;140437588396816</title>\n",
       "<path d=\"M108.54,-159.799C108.54,-148.163 108.54,-132.548 108.54,-119.237\" fill=\"none\" stroke=\"black\"/>\n",
       "<polygon fill=\"black\" points=\"112.04,-119.175 108.54,-109.175 105.04,-119.175 112.04,-119.175\" stroke=\"black\"/>\n",
       "</g>\n",
       "<!-- 140437588394384 -->\n",
       "<g class=\"node\" id=\"node4\"><title>140437588394384</title>\n",
       "<ellipse cx=\"343.54\" cy=\"-91\" fill=\"#ffaabb\" rx=\"108.581\" ry=\"18\" stroke=\"black\"/>\n",
       "<text font-family=\"Times,serif\" font-size=\"14.00\" text-anchor=\"middle\" x=\"343.54\" y=\"-87.3\">Elemwise{add,no_inplace}</text>\n",
       "</g>\n",
       "<!-- 140437588394128&#45;&gt;140437588394384 -->\n",
       "<g class=\"edge\" id=\"edge3\"><title>140437588394128-&gt;140437588394384</title>\n",
       "<path d=\"M155.813,-159.901C194.9,-145.764 250.362,-125.703 290.866,-111.053\" fill=\"none\" stroke=\"black\"/>\n",
       "<polygon fill=\"black\" points=\"292.089,-114.332 300.302,-107.639 289.708,-107.749 292.089,-114.332\" stroke=\"black\"/>\n",
       "<text font-family=\"Times,serif\" font-size=\"14.00\" text-anchor=\"middle\" x=\"244.04\" y=\"-130.8\">0</text>\n",
       "</g>\n",
       "<!-- 140437588394448 -->\n",
       "<g class=\"node\" id=\"node6\"><title>140437588394448</title>\n",
       "<polygon fill=\"blue\" points=\"427.54,-36 259.54,-36 259.54,-0 427.54,-0 427.54,-36\" stroke=\"black\"/>\n",
       "<text font-family=\"Times,serif\" font-size=\"14.00\" text-anchor=\"middle\" x=\"343.54\" y=\"-14.3\">TensorType(float64, scalar)</text>\n",
       "</g>\n",
       "<!-- 140437588394384&#45;&gt;140437588394448 -->\n",
       "<g class=\"edge\" id=\"edge5\"><title>140437588394384-&gt;140437588394448</title>\n",
       "<path d=\"M343.54,-72.8129C343.54,-64.7895 343.54,-55.0475 343.54,-46.0691\" fill=\"none\" stroke=\"black\"/>\n",
       "<polygon fill=\"black\" points=\"347.04,-46.0288 343.54,-36.0288 340.04,-46.0289 347.04,-46.0288\" stroke=\"black\"/>\n",
       "</g>\n",
       "<!-- 140437588394192 -->\n",
       "<g class=\"node\" id=\"node5\"><title>140437588394192</title>\n",
       "<polygon fill=\"green\" points=\"452.04,-196 235.04,-196 235.04,-160 452.04,-160 452.04,-196\" stroke=\"black\"/>\n",
       "<text font-family=\"Times,serif\" font-size=\"14.00\" text-anchor=\"middle\" x=\"343.54\" y=\"-174.3\">name=y TensorType(float64, scalar)</text>\n",
       "</g>\n",
       "<!-- 140437588394192&#45;&gt;140437588394384 -->\n",
       "<g class=\"edge\" id=\"edge4\"><title>140437588394192-&gt;140437588394384</title>\n",
       "<path d=\"M343.54,-159.799C343.54,-148.163 343.54,-132.548 343.54,-119.237\" fill=\"none\" stroke=\"black\"/>\n",
       "<polygon fill=\"black\" points=\"347.04,-119.175 343.54,-109.175 340.04,-119.175 347.04,-119.175\" stroke=\"black\"/>\n",
       "<text font-family=\"Times,serif\" font-size=\"14.00\" text-anchor=\"middle\" x=\"347.04\" y=\"-130.8\">1</text>\n",
       "</g>\n",
       "</g>\n",
       "</svg>"
      ],
      "text/plain": [
       "<IPython.core.display.SVG object>"
      ]
     },
     "execution_count": 7,
     "metadata": {},
     "output_type": "execute_result"
    }
   ],
   "source": [
    "from IPython.display import SVG\n",
    "SVG(theano.printing.pydotprint(f, return_image=True,\n",
    "                               format='svg'))"
   ]
  },
  {
   "cell_type": "markdown",
   "metadata": {
    "collapsed": false
   },
   "source": [
    "使用In类设置参数的默认值："
   ]
  },
  {
   "cell_type": "code",
   "execution_count": 10,
   "metadata": {
    "collapsed": false
   },
   "outputs": [
    {
     "data": {
      "text/plain": [
       "array(4.0)"
      ]
     },
     "execution_count": 10,
     "metadata": {},
     "output_type": "execute_result"
    }
   ],
   "source": [
    "from theano import In\n",
    "x, y, w = T.dscalars('x', 'y', 'w')\n",
    "z = (x + y) * w\n",
    "f = function([x, In(y, value=1), In(w, value=2, name='w_by_name')], z)\n",
    "f(1)"
   ]
  },
  {
   "cell_type": "markdown",
   "metadata": {},
   "source": [
    "## 3.共享变量 shared variable\n",
    "共享变量同样存在于Tensorflow，我认为是一个比较重要的知识点。\n",
    "\n",
    "tutorial中的解释是：共享变量是符号变量和非符号变量的混合体，它可以在多个function中共享。可以通过get_value和set_value来获取和设置共享变量的值。\n",
    "\n",
    "你可以像使用其他符号变量一样在表达式中使用共享变量，也可以像使用非符号变量一样，获取共享变量的值。"
   ]
  },
  {
   "cell_type": "code",
   "execution_count": 12,
   "metadata": {
    "collapsed": true
   },
   "outputs": [],
   "source": [
    "from theano import shared\n",
    "state = shared(0)\n",
    "inc = T.iscalar('inc')\n",
    "accumulator = function([inc], state, updates=[(state, state+inc)])"
   ]
  },
  {
   "cell_type": "markdown",
   "metadata": {},
   "source": [
    "这里的function用到了**updates**参数，updates参数使用下面的形式：(shared-variable, new expression)"
   ]
  },
  {
   "cell_type": "code",
   "execution_count": 13,
   "metadata": {
    "collapsed": false
   },
   "outputs": [
    {
     "data": {
      "image/svg+xml": [
       "<svg height=\"291pt\" viewBox=\"0.00 0.00 281.54 291.00\" width=\"282pt\" xmlns=\"http://www.w3.org/2000/svg\" xmlns:xlink=\"http://www.w3.org/1999/xlink\">\n",
       "<g class=\"graph\" id=\"graph0\" transform=\"scale(1 1) rotate(0) translate(4 287)\">\n",
       "<title>G</title>\n",
       "<polygon fill=\"white\" points=\"-4,4 -4,-287 277.54,-287 277.54,4 -4,4\" stroke=\"none\"/>\n",
       "<!-- 140438391472976 -->\n",
       "<g class=\"node\" id=\"node1\"><title>140438391472976</title>\n",
       "<ellipse cx=\"165\" cy=\"-178\" fill=\"#ffaabb\" rx=\"108.581\" ry=\"18\" stroke=\"black\"/>\n",
       "<text font-family=\"Times,serif\" font-size=\"14.00\" text-anchor=\"middle\" x=\"165\" y=\"-174.3\">Elemwise{add,no_inplace}</text>\n",
       "</g>\n",
       "<!-- 140438391472400 -->\n",
       "<g class=\"node\" id=\"node4\"><title>140438391472400</title>\n",
       "<polygon fill=\"blue\" points=\"158,-123 1.42109e-14,-123 1.42109e-14,-87 158,-87 158,-123\" stroke=\"black\"/>\n",
       "<text font-family=\"Times,serif\" font-size=\"14.00\" text-anchor=\"middle\" x=\"79\" y=\"-101.3\">TensorType(int64, scalar)</text>\n",
       "</g>\n",
       "<!-- 140438391472976&#45;&gt;140438391472400 -->\n",
       "<g class=\"edge\" id=\"edge3\"><title>140438391472976-&gt;140438391472400</title>\n",
       "<path d=\"M144.619,-160.174C133.642,-151.111 119.915,-139.779 107.858,-129.825\" fill=\"none\" stroke=\"black\"/>\n",
       "<polygon fill=\"black\" points=\"109.772,-126.866 99.8319,-123.198 105.315,-132.264 109.772,-126.866\" stroke=\"black\"/>\n",
       "</g>\n",
       "<!-- 140438391472464 -->\n",
       "<g class=\"node\" id=\"node2\"><title>140438391472464</title>\n",
       "<polygon fill=\"cyan\" points=\"227,-36 69,-36 69,-0 227,-0 227,-36\" stroke=\"black\"/>\n",
       "<text font-family=\"Times,serif\" font-size=\"14.00\" text-anchor=\"middle\" x=\"148\" y=\"-14.3\">TensorType(int64, scalar)</text>\n",
       "</g>\n",
       "<!-- 140438391472464&#45;&gt;140438391472976 -->\n",
       "<g class=\"edge\" id=\"edge1\"><title>140438391472464-&gt;140438391472976</title>\n",
       "<path d=\"M165.42,-36.0875C169.716,-41.3832 173.733,-47.5382 176,-54 187.102,-85.6502 180.527,-124.552 173.734,-150.023\" fill=\"none\" stroke=\"black\"/>\n",
       "<polygon fill=\"black\" points=\"170.342,-149.155 170.959,-159.731 177.072,-151.078 170.342,-149.155\" stroke=\"black\"/>\n",
       "<text font-family=\"Times,serif\" font-size=\"14.00\" text-anchor=\"middle\" x=\"185.5\" y=\"-101.3\">0</text>\n",
       "</g>\n",
       "<!-- 140438391473040 -->\n",
       "<g class=\"node\" id=\"node3\"><title>140438391473040</title>\n",
       "<polygon fill=\"green\" points=\"273,-283 57,-283 57,-247 273,-247 273,-283\" stroke=\"black\"/>\n",
       "<text font-family=\"Times,serif\" font-size=\"14.00\" text-anchor=\"middle\" x=\"165\" y=\"-261.3\">name=inc TensorType(int32, scalar)</text>\n",
       "</g>\n",
       "<!-- 140438391473040&#45;&gt;140438391472976 -->\n",
       "<g class=\"edge\" id=\"edge2\"><title>140438391473040-&gt;140438391472976</title>\n",
       "<path d=\"M165,-246.799C165,-235.163 165,-219.548 165,-206.237\" fill=\"none\" stroke=\"black\"/>\n",
       "<polygon fill=\"black\" points=\"168.5,-206.175 165,-196.175 161.5,-206.175 168.5,-206.175\" stroke=\"black\"/>\n",
       "<text font-family=\"Times,serif\" font-size=\"14.00\" text-anchor=\"middle\" x=\"168.5\" y=\"-217.8\">1</text>\n",
       "</g>\n",
       "<!-- 140438391472400&#45;&gt;140438391472464 -->\n",
       "<g class=\"edge\" id=\"edge4\"><title>140438391472400-&gt;140438391472464</title>\n",
       "<path d=\"M92.9632,-86.799C102.877,-74.5865 116.348,-57.9921 127.481,-44.2776\" fill=\"none\" stroke=\"blue\"/>\n",
       "<polygon fill=\"blue\" points=\"130.472,-46.1453 134.058,-36.1754 125.038,-41.7335 130.472,-46.1453\" stroke=\"blue\"/>\n",
       "<text font-family=\"Times,serif\" font-size=\"14.00\" text-anchor=\"middle\" x=\"145\" y=\"-57.8\">UPDATE</text>\n",
       "</g>\n",
       "</g>\n",
       "</svg>"
      ],
      "text/plain": [
       "<IPython.core.display.SVG object>"
      ]
     },
     "execution_count": 13,
     "metadata": {},
     "output_type": "execute_result"
    }
   ],
   "source": [
    "SVG(theano.printing.pydotprint(accumulator, return_image=True,\n",
    "                               format='svg'))"
   ]
  },
  {
   "cell_type": "code",
   "execution_count": 15,
   "metadata": {
    "collapsed": false
   },
   "outputs": [
    {
     "name": "stdout",
     "output_type": "stream",
     "text": [
      "0\n",
      "2\n",
      "4\n",
      "6\n",
      "8\n",
      "10\n",
      "12\n",
      "14\n",
      "16\n",
      "18\n"
     ]
    }
   ],
   "source": [
    "for i in range(10):\n",
    "    ans = accumulator(2)\n",
    "    print ans"
   ]
  },
  {
   "cell_type": "code",
   "execution_count": 17,
   "metadata": {
    "collapsed": false
   },
   "outputs": [
    {
     "name": "stdout",
     "output_type": "stream",
     "text": [
      "38\n",
      "36\n",
      "34\n",
      "32\n",
      "30\n",
      "28\n",
      "26\n",
      "24\n",
      "22\n",
      "20\n"
     ]
    }
   ],
   "source": [
    "# 在多个function中使用同一个共享变量\n",
    "decrementor = function([inc], state, updates=[(state, state-inc)])\n",
    "for i in range(10):\n",
    "    ans = decrementor(2)\n",
    "    print state.get_value()"
   ]
  },
  {
   "cell_type": "markdown",
   "metadata": {},
   "source": [
    "再来看一个function中的重要参数**givens**。givens常常使用在你需要替换掉表达式的某些特定节点，当然替换的对象必须是符号变量或者共享变量。"
   ]
  },
  {
   "cell_type": "code",
   "execution_count": 25,
   "metadata": {
    "collapsed": false
   },
   "outputs": [
    {
     "name": "stdout",
     "output_type": "stream",
     "text": [
      "state =  20\n",
      "state * 2 + inc =  41\n"
     ]
    }
   ],
   "source": [
    "print \"state = \", state.get_value()\n",
    "fn_of_state = state * 2 + inc\n",
    "use_shared = function([inc], fn_of_state)\n",
    "print \"state * 2 + inc = \", use_shared(1)"
   ]
  },
  {
   "cell_type": "markdown",
   "metadata": {},
   "source": [
    "上面的fn_of_state定义了一个新的表达式，使用了之前定义的共享变量state。但在这里的应用场景下，我只想再次使用这个表达式，而不是使用共享变量中的值。"
   ]
  },
  {
   "cell_type": "code",
   "execution_count": 26,
   "metadata": {
    "collapsed": false
   },
   "outputs": [
    {
     "name": "stdout",
     "output_type": "stream",
     "text": [
      "foo * 2 + inc =  7\n"
     ]
    }
   ],
   "source": [
    "foo = T.scalar(dtype=state.dtype)\n",
    "skip_shared = function([inc, foo], fn_of_state, givens=[(state, foo)])\n",
    "print \"foo * 2 + inc = \", skip_shared(1, 3)  "
   ]
  },
  {
   "cell_type": "markdown",
   "metadata": {},
   "source": [
    "## 4. copy函数\n",
    "我们调用function的copy函数，来拷贝这个function，swap参数可以指定新的共享变量。"
   ]
  },
  {
   "cell_type": "code",
   "execution_count": 28,
   "metadata": {
    "collapsed": false
   },
   "outputs": [
    {
     "name": "stdout",
     "output_type": "stream",
     "text": [
      "100\n"
     ]
    }
   ],
   "source": [
    "new_state = theano.shared(0)\n",
    "new_accumulator = accumulator.copy(swap={state:new_state})\n",
    "new_accumulator(100)\n",
    "print new_state.get_value()"
   ]
  },
  {
   "cell_type": "markdown",
   "metadata": {},
   "source": [
    "## 5. 求导\n"
   ]
  },
  {
   "cell_type": "code",
   "execution_count": 34,
   "metadata": {
    "collapsed": false
   },
   "outputs": [
    {
     "data": {
      "text/plain": [
       "'((fill((x ** TensorConstant{2}), TensorConstant{1.0}) * TensorConstant{2}) * (x ** (TensorConstant{2} - TensorConstant{1})))'"
      ]
     },
     "execution_count": 34,
     "metadata": {},
     "output_type": "execute_result"
    }
   ],
   "source": [
    "from theano import pp\n",
    "x = T.dscalar('x')\n",
    "y = x ** 2\n",
    "gy = T.grad(y, x)\n",
    "pp(gy)"
   ]
  },
  {
   "cell_type": "code",
   "execution_count": 37,
   "metadata": {
    "collapsed": false
   },
   "outputs": [
    {
     "data": {
      "text/plain": [
       "'(TensorConstant{2.0} * x)'"
      ]
     },
     "execution_count": 37,
     "metadata": {},
     "output_type": "execute_result"
    }
   ],
   "source": [
    "pp(f.maker.fgraph.outputs[0])"
   ]
  },
  {
   "cell_type": "code",
   "execution_count": 35,
   "metadata": {
    "collapsed": false
   },
   "outputs": [
    {
     "name": "stdout",
     "output_type": "stream",
     "text": [
      "gy = 2 * x:  8.0\n"
     ]
    }
   ],
   "source": [
    "f = theano.function([x], gy)\n",
    "print \"gy = 2 * x: \",f(4)"
   ]
  },
  {
   "cell_type": "code",
   "execution_count": null,
   "metadata": {
    "collapsed": false
   },
   "outputs": [],
   "source": []
  },
  {
   "cell_type": "code",
   "execution_count": null,
   "metadata": {
    "collapsed": true
   },
   "outputs": [],
   "source": []
  }
 ],
 "metadata": {
  "anaconda-cloud": {},
  "kernelspec": {
   "display_name": "Python [default]",
   "language": "python",
   "name": "python2"
  },
  "language_info": {
   "codemirror_mode": {
    "name": "ipython",
    "version": 2
   },
   "file_extension": ".py",
   "mimetype": "text/x-python",
   "name": "python",
   "nbconvert_exporter": "python",
   "pygments_lexer": "ipython2",
   "version": "2.7.12"
  }
 },
 "nbformat": 4,
 "nbformat_minor": 1
}
