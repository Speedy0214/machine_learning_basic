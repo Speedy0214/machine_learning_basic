{
 "cells": [
  {
   "cell_type": "markdown",
   "metadata": {},
   "source": [
    "# 遗传算法原理和应用（python实现）"
   ]
  },
  {
   "cell_type": "markdown",
   "metadata": {},
   "source": [
    "求解函数 f(x) = x + 10*sin(5*x) + 7*cos(4*x) 在区间[0,9]的最大值。"
   ]
  },
  {
   "cell_type": "code",
   "execution_count": 1,
   "metadata": {
    "collapsed": true
   },
   "outputs": [],
   "source": [
    "#encoding=utf-8\n",
    "\n",
    "import math\n",
    "import random\n",
    "import operator\n",
    "\n",
    "class GA():\n",
    "    def __init__(self, length, count):\n",
    "        # 染色体长度\n",
    "        self.length = length\n",
    "        # 种群中的染色体数量\n",
    "        self.count = count\n",
    "        # 随机生成初始种群\n",
    "        self.population = self.gen_population(length, count)\n",
    "\n",
    "    def evolve(self, retain_rate=0.2, random_select_rate=0.5, mutation_rate=0.01):\n",
    "        \"\"\"\n",
    "        进化\n",
    "        对当前一代种群依次进行选择、交叉并生成新一代种群，然后对新一代种群进行变异\n",
    "        \"\"\"\n",
    "        parents = self.selection(retain_rate, random_select_rate)\n",
    "        self.crossover(parents)\n",
    "        self.mutation(mutation_rate)\n",
    "\n",
    "    def gen_chromosome(self, length):\n",
    "        \"\"\"\n",
    "        随机生成长度为length的染色体，每个基因的取值是0或1\n",
    "        这里用一个bit表示一个基因\n",
    "        \"\"\"\n",
    "        chromosome = 0\n",
    "        for i in xrange(length):\n",
    "            chromosome |= (1 << i) * random.randint(0, 1)\n",
    "        return chromosome\n",
    "\n",
    "    def gen_population(self, length, count):\n",
    "        \"\"\"\n",
    "        获取初始种群（一个含有count个长度为length的染色体的列表）\n",
    "        \"\"\"\n",
    "        return [self.gen_chromosome(length) for i in xrange(count)]\n",
    "\n",
    "    def fitness(self, chromosome):\n",
    "        \"\"\"\n",
    "        计算适应度，将染色体解码为0~9之间数字，代入函数计算\n",
    "        因为是求最大值，所以数值越大，适应度越高\n",
    "        \"\"\"\n",
    "        x = self.decode(chromosome)\n",
    "        return x + 10*math.sin(5*x) + 7*math.cos(4*x)\n",
    "\n",
    "    def selection(self, retain_rate, random_select_rate):\n",
    "        \"\"\"\n",
    "        选择\n",
    "        先对适应度从大到小排序，选出存活的染色体\n",
    "        再进行随机选择，选出适应度虽然小，但是幸存下来的个体\n",
    "        \"\"\"\n",
    "        # 对适应度从大到小进行排序\n",
    "        graded = [(self.fitness(chromosome), chromosome) for chromosome in self.population]\n",
    "        graded = [x[1] for x in sorted(graded, reverse=True)]\n",
    "        # 选出适应性强的染色体\n",
    "        retain_length = int(len(graded) * retain_rate)\n",
    "        parents = graded[:retain_length]\n",
    "        # 选出适应性不强，但是幸存的染色体\n",
    "        for chromosome in graded[retain_length:]:\n",
    "            if random.random() < random_select_rate:\n",
    "                parents.append(chromosome)\n",
    "        return parents\n",
    "\n",
    "    def crossover(self, parents):\n",
    "        \"\"\"\n",
    "        染色体的交叉、繁殖，生成新一代的种群\n",
    "        \"\"\"\n",
    "        # 新出生的孩子，最终会被加入存活下来的父母之中，形成新一代的种群。\n",
    "        children = []\n",
    "        # 需要繁殖的孩子的量\n",
    "        target_count = len(self.population) - len(parents)\n",
    "        # 开始根据需要的量进行繁殖\n",
    "        while len(children) < target_count:\n",
    "            male = random.randint(0, len(parents)-1)\n",
    "            female = random.randint(0, len(parents)-1)\n",
    "            if male != female:\n",
    "                # 随机选取交叉点\n",
    "                cross_pos = random.randint(0, self.length)\n",
    "                # 生成掩码，方便位操作\n",
    "                mask = 0\n",
    "                for i in xrange(cross_pos):\n",
    "                    mask |= (1 << i) \n",
    "                male = parents[male]\n",
    "                female = parents[female]\n",
    "                # 孩子将获得父亲在交叉点前的基因和母亲在交叉点后（包括交叉点）的基因\n",
    "                child = ((male & mask) | (female & ~mask)) & ((1 << self.length) - 1)\n",
    "                children.append(child)\n",
    "        # 经过繁殖后，孩子和父母的数量与原始种群数量相等，在这里可以更新种群。\n",
    "        self.population = parents + children\n",
    "\n",
    "    def mutation(self, rate):\n",
    "        \"\"\"\n",
    "        变异\n",
    "        对种群中的所有个体，随机改变某个个体中的某个基因\n",
    "        \"\"\"\n",
    "        for i in xrange(len(self.population)):\n",
    "            if random.random() < rate:\n",
    "                j = random.randint(0, self.length-1)\n",
    "                self.population[i] ^= 1 << j\n",
    "\n",
    "\n",
    "    def decode(self, chromosome):\n",
    "        \"\"\"\n",
    "        解码染色体，将二进制转化为属于[0, 9]的实数\n",
    "        \"\"\"\n",
    "        return chromosome * 9.0 / (2**self.length-1)\n",
    "\n",
    "    def result(self):\n",
    "        \"\"\"\n",
    "        获得当前代的最优值，这里取的是函数取最大值时x的值。\n",
    "        \"\"\"\n",
    "        graded = [(self.fitness(chromosome), chromosome) for chromosome in self.population]\n",
    "        graded = [x[1] for x in sorted(graded, reverse=True)]\n",
    "        return ga.decode(graded[0])     \n"
   ]
  },
  {
   "cell_type": "code",
   "execution_count": 2,
   "metadata": {
    "collapsed": false
   },
   "outputs": [
    {
     "name": "stdout",
     "output_type": "stream",
     "text": [
      "7.85672650701\n"
     ]
    }
   ],
   "source": [
    "# 染色体长度为17， 种群数量为300\n",
    "ga = GA(17, 300)\n",
    "\n",
    "# 200次进化迭代\n",
    "for x in xrange(200):\n",
    "     ga.evolve()\n",
    "\n",
    "print ga.result()"
   ]
  },
  {
   "cell_type": "code",
   "execution_count": null,
   "metadata": {
    "collapsed": true
   },
   "outputs": [],
   "source": []
  }
 ],
 "metadata": {
  "anaconda-cloud": {},
  "kernelspec": {
   "display_name": "Python [default]",
   "language": "python",
   "name": "python2"
  },
  "language_info": {
   "codemirror_mode": {
    "name": "ipython",
    "version": 2
   },
   "file_extension": ".py",
   "mimetype": "text/x-python",
   "name": "python",
   "nbconvert_exporter": "python",
   "pygments_lexer": "ipython2",
   "version": "2.7.12"
  }
 },
 "nbformat": 4,
 "nbformat_minor": 0
}
