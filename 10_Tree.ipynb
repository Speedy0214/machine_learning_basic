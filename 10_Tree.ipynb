{
 "cells": [
  {
   "cell_type": "markdown",
   "metadata": {},
   "source": [
    "## 决策树基础\n",
    "\n",
    "决策树学习算法通常是一个递归地选择最优特征，并根据该特征对训练数据进行分割。\n",
    "\n",
    "决策树学习常用的算法主要有以下三种：\n",
    "\n",
    "### 1 ID3算法\n",
    "\n",
    "ID3使用信息增益作为特征选取的依据：\n",
    "\n",
    "$G(D, A) = H(D, A) - H(D|A)$，其中D是训练数据集，A是特征。\n",
    "\n",
    "$H(D)=-\\sum_{k=1}^K\\frac{|C_k|}{|D|}log\\frac{|C_k|}{|D|}$，其中，$|C_k|$是属于类$C_k$的个数，$|D|$是所有样本的个数。\n",
    "\n",
    "$H(D|A)=\\sum_{i=1}^n\\frac{|D_i|}{|D|}H(D_i)=-\\sum_{i=1}^n\\frac{|D_i|}{|D|}\\sum_{k=1}^{K}\\frac{|D_{ik}|}{|D_i|}log\\frac{|D_{ik}|}{|D_i|}$\n",
    "\n",
    "### 2 C4.5算法\n",
    "\n",
    "### 3 CART算法"
   ]
  },
  {
   "cell_type": "code",
   "execution_count": 1,
   "metadata": {
    "collapsed": false
   },
   "outputs": [
    {
     "name": "stdout",
     "output_type": "stream",
     "text": [
      "决策树测试集正确率73.33%\n",
      "Bagging测试集正确率77.78%\n"
     ]
    }
   ],
   "source": [
    "import numpy as np  \n",
    "from sklearn.tree import DecisionTreeClassifier  \n",
    "from sklearn.model_selection import train_test_split  \n",
    "from sklearn.ensemble import BaggingClassifier  \n",
    "from sklearn import datasets  \n",
    "  \n",
    "#读取数据，划分训练集和测试集  \n",
    "iris=datasets.load_iris()  \n",
    "x=iris.data[: , :2]  \n",
    "y=iris.target  \n",
    "x_train, x_test, y_train, y_test = train_test_split(x, y, train_size=0.7, random_state=1)  \n",
    "  \n",
    "#模型训练  \n",
    "# sklearn 自带的决策树分类器\n",
    "model1=DecisionTreeClassifier(max_depth=5)  \n",
    "# sklearn自带的bagging分类器\n",
    "model2=BaggingClassifier(model1,n_estimators=100,max_samples=0.3)  \n",
    "model1.fit(x_train,y_train)  \n",
    "model2.fit(x_train,y_train)  \n",
    "model1_pre=model1.predict(x_test)  \n",
    "model2_pre=model2.predict(x_test)  \n",
    "res1=model1_pre==y_test  \n",
    "res2=model2_pre==y_test  \n",
    "print '决策树测试集正确率%.2f%%'%np.mean(res1*100)  \n",
    "print 'Bagging测试集正确率%.2f%%'%np.mean(res2*100)  "
   ]
  },
  {
   "cell_type": "code",
   "execution_count": null,
   "metadata": {
    "collapsed": true
   },
   "outputs": [],
   "source": []
  }
 ],
 "metadata": {
  "kernelspec": {
   "display_name": "Python 2",
   "language": "python",
   "name": "python2"
  },
  "language_info": {
   "codemirror_mode": {
    "name": "ipython",
    "version": 2
   },
   "file_extension": ".py",
   "mimetype": "text/x-python",
   "name": "python",
   "nbconvert_exporter": "python",
   "pygments_lexer": "ipython2",
   "version": "2.7.10"
  }
 },
 "nbformat": 4,
 "nbformat_minor": 0
}
