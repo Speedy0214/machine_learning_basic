{
 "cells": [
  {
   "cell_type": "markdown",
   "metadata": {
    "collapsed": true
   },
   "source": [
    "# 隐马尔科夫模型（HMM）及其Python实现\n",
    "上一篇总结了Logistic Regression和Max Entropy，这一篇继续下图的思路，整理HMM。\n",
    "\n",
    "代码主要参考[Hankcs](http://www.hankcs.com/ml/hidden-markov-model.html)大神的博客。\n",
    "![](https://raw.githubusercontent.com/applenob/machine_learning_basic/master/res/crf.png)"
   ]
  },
  {
   "cell_type": "code",
   "execution_count": 6,
   "metadata": {
    "collapsed": true
   },
   "outputs": [],
   "source": [
    "import numpy as np"
   ]
  },
  {
   "cell_type": "code",
   "execution_count": 1,
   "metadata": {
    "collapsed": true
   },
   "outputs": [],
   "source": [
    "# 对应状态集合\n",
    "states = ('Healthy', 'Fever')\n",
    "# 对应观测集合\n",
    "observations = ('normal', 'cold', 'dizzy')\n",
    "# 初始状态概率向量π\n",
    "start_probability = {'Healthy': 0.6, 'Fever': 0.4}\n",
    "# 状态转移矩阵A\n",
    "transition_probability = {\n",
    "    'Healthy': {'Healthy': 0.7, 'Fever': 0.3},\n",
    "    'Fever': {'Healthy': 0.4, 'Fever': 0.6},\n",
    "}\n",
    "# 观测概率矩阵B\n",
    "emission_probability = {\n",
    "    'Healthy': {'normal': 0.5, 'cold': 0.4, 'dizzy': 0.1},\n",
    "    'Fever': {'normal': 0.1, 'cold': 0.3, 'dizzy': 0.6},\n",
    "}"
   ]
  },
  {
   "cell_type": "code",
   "execution_count": 33,
   "metadata": {
    "collapsed": true
   },
   "outputs": [],
   "source": [
    "class HMM:\n",
    "    \"\"\"\n",
    "    Order 1 Hidden Markov Model\n",
    " \n",
    "    Attributes\n",
    "    ----------\n",
    "    A : numpy.ndarray\n",
    "        State transition probability matrix\n",
    "    B: numpy.ndarray\n",
    "        Output emission probability matrix with shape(N, number of output types)\n",
    "    pi: numpy.ndarray\n",
    "        Initial state probablity vector\n",
    "    \"\"\"\n",
    " \n",
    "    def __init__(self, A, B, pi):\n",
    "        self.A = A\n",
    "        self.B = B\n",
    "        self.pi = pi\n",
    "    \n",
    "    def simulate(self, T):\n",
    " \n",
    "        def draw_from(probs):\n",
    "            \"\"\"\n",
    "            1.np.random.multinomial:\n",
    "            按照多项式分布，生成数据\n",
    "            >>> np.random.multinomial(20, [1/6.]*6, size=2)\n",
    "                    array([[3, 4, 3, 3, 4, 3],\n",
    "                           [2, 4, 3, 4, 0, 7]])\n",
    "             For the first run, we threw 3 times 1, 4 times 2, etc.  \n",
    "             For the second, we threw 2 times 1, 4 times 2, etc.\n",
    "            2.np.where:\n",
    "            >>> x = np.arange(9.).reshape(3, 3)\n",
    "            >>> np.where( x > 5 )\n",
    "            (array([2, 2, 2]), array([0, 1, 2]))\n",
    "            \"\"\"\n",
    "            return np.where(np.random.multinomial(1,probs) == 1)[0][0]\n",
    "\n",
    "        observations = np.zeros(T, dtype=int)\n",
    "        states = np.zeros(T, dtype=int)\n",
    "        states[0] = draw_from(self.pi)\n",
    "        observations[0] = draw_from(self.B[states[0],:])\n",
    "        for t in range(1, T):\n",
    "            states[t] = draw_from(self.A[states[t-1],:])\n",
    "            observations[t] = draw_from(self.B[states[t],:])\n",
    "        return observations,states"
   ]
  },
  {
   "cell_type": "code",
   "execution_count": 3,
   "metadata": {
    "collapsed": false
   },
   "outputs": [
    {
     "name": "stdout",
     "output_type": "stream",
     "text": [
      "{'Healthy': 0, 'Fever': 1} {0: 'Healthy', 1: 'Fever'}\n",
      "{'cold': 1, 'dizzy': 2, 'normal': 0} {0: 'normal', 1: 'cold', 2: 'dizzy'}\n"
     ]
    }
   ],
   "source": [
    "def generate_index_map(lables):\n",
    "    \"\"\"为label生成index\"\"\" \n",
    "    index_label = {}\n",
    "    label_index = {}\n",
    "    i = 0\n",
    "    for l in lables:\n",
    "        index_label[i] = l\n",
    "        label_index[l] = i\n",
    "        i += 1\n",
    "    return label_index, index_label\n",
    " \n",
    " \n",
    "states_label_index, states_index_label = generate_index_map(states)\n",
    "observations_label_index, observations_index_label = generate_index_map(observations)\n",
    "print states_label_index, states_index_label\n",
    "print observations_label_index, observations_index_label"
   ]
  },
  {
   "cell_type": "code",
   "execution_count": 4,
   "metadata": {
    "collapsed": true
   },
   "outputs": [],
   "source": [
    "def convert_observations_to_index(observations, label_index):\n",
    "    list = []\n",
    "    for o in observations:\n",
    "        list.append(label_index[o])\n",
    "    return list\n",
    " \n",
    " \n",
    "def convert_map_to_vector(map, label_index):\n",
    "    v = np.empty(len(map), dtype=float)\n",
    "    for e in map:\n",
    "        v[label_index[e]] = map[e]\n",
    "    return v\n",
    " \n",
    " \n",
    "def convert_map_to_matrix(map, label_index1, label_index2):\n",
    "    m = np.empty((len(label_index1), len(label_index2)), dtype=float)\n",
    "    for line in map:\n",
    "        for col in map[line]:\n",
    "            m[label_index1[line]][label_index2[col]] = map[line][col]\n",
    "    return m"
   ]
  },
  {
   "cell_type": "code",
   "execution_count": 13,
   "metadata": {
    "collapsed": false
   },
   "outputs": [
    {
     "name": "stdout",
     "output_type": "stream",
     "text": [
      "[[ 0.7  0.3]\n",
      " [ 0.4  0.6]]\n",
      "[[ 0.5  0.4  0.1]\n",
      " [ 0.1  0.3  0.6]]\n",
      "[ 0.6  0.4]\n"
     ]
    }
   ],
   "source": [
    "A = convert_map_to_matrix(transition_probability, states_label_index, states_label_index)\n",
    "print A\n",
    "B = convert_map_to_matrix(emission_probability, states_label_index, observations_label_index)\n",
    "print B\n",
    "observations_index = convert_observations_to_index(observations, observations_label_index)\n",
    "pi = convert_map_to_vector(start_probability, states_label_index)\n",
    "print pi\n",
    "\n",
    "h = HMM(A, B, pi)"
   ]
  },
  {
   "cell_type": "code",
   "execution_count": 15,
   "metadata": {
    "collapsed": false
   },
   "outputs": [
    {
     "name": "stdout",
     "output_type": "stream",
     "text": [
      "[1 2 2 2 1 0 1 1 1 0]\n",
      "[0 1 1 0 0 0 0 0 0 0]\n",
      "['Healthy', 'Fever', 'Fever', 'Healthy', 'Healthy', 'Healthy', 'Healthy', 'Healthy', 'Healthy', 'Healthy']\n",
      "['cold', 'dizzy', 'dizzy', 'dizzy', 'cold', 'normal', 'cold', 'cold', 'cold', 'normal']\n"
     ]
    }
   ],
   "source": [
    "# 生成模拟数据\n",
    "observations_data, states_data = h.simulate(10)\n",
    "print observations_data\n",
    "print states_data\n",
    "# 相应的label\n",
    "print [states_index_label[index] for index in states_data]\n",
    "print [observations_index_label[index] for index in observations_data]"
   ]
  },
  {
   "cell_type": "code",
   "execution_count": null,
   "metadata": {
    "collapsed": true
   },
   "outputs": [],
   "source": []
  }
 ],
 "metadata": {
  "anaconda-cloud": {},
  "kernelspec": {
   "display_name": "Python [default]",
   "language": "python",
   "name": "python2"
  },
  "language_info": {
   "codemirror_mode": {
    "name": "ipython",
    "version": 2
   },
   "file_extension": ".py",
   "mimetype": "text/x-python",
   "name": "python",
   "nbconvert_exporter": "python",
   "pygments_lexer": "ipython2",
   "version": "2.7.12"
  }
 },
 "nbformat": 4,
 "nbformat_minor": 0
}
