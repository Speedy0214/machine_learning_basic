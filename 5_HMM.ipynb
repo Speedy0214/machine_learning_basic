{
 "cells": [
  {
   "cell_type": "markdown",
   "metadata": {
    "collapsed": true
   },
   "source": [
    "# 隐马尔科夫模型（HMM）及其Python实现\n",
    "上一篇总结了Logistic Regression和Max Entropy，这一篇继续下图的思路，整理HMM。\n",
    "\n",
    "代码主要参考[Hankcs](http://www.hankcs.com/ml/hidden-markov-model.html)大神的博客。\n",
    "![](https://raw.githubusercontent.com/applenob/machine_learning_basic/master/res/crf.png)"
   ]
  },
  {
   "cell_type": "markdown",
   "metadata": {},
   "source": [
    "首先总结一下图模型，所谓图模型，其实就是在统计建模的时候，结合图论的思想。\n"
   ]
  },
  {
   "cell_type": "markdown",
   "metadata": {},
   "source": [
    "让我们先从朴素贝叶斯开始思考，随机变量y和所有的观测变量X有关，但每个观测变量对于y来说，又是独立的，也就是我们说的“naive”。这基本上是最简单的随机变量的关系了:$P(X|y)=p(x_1|y)\\cdot p(x_2|y)...\\cdot p(x_n|y)$。那我们可以从这里引申出什么呢？如果把所有的随机变量，都用图论中的节点表示，变量间的关系，由边表示，暂时先不考虑边的方向的问题，那么朴素贝叶斯就可以很直观地画成上面的第一幅图。\n"
   ]
  },
  {
   "cell_type": "markdown",
   "metadata": {},
   "source": [
    "$$P_w(y|x)=\\frac{1}{Z_w(x)}exp\\bigl(\\begin{smallmatrix}\n",
    "\\sum_{i=1}^{n} w_i\\cdot f_i(x,y)\n",
    "\\end{smallmatrix}\\bigr)$$"
   ]
  },
  {
   "cell_type": "code",
   "execution_count": 1,
   "metadata": {
    "collapsed": true
   },
   "outputs": [],
   "source": [
    "import numpy as np"
   ]
  },
  {
   "cell_type": "code",
   "execution_count": 2,
   "metadata": {
    "collapsed": true
   },
   "outputs": [],
   "source": [
    "# 对应状态集合\n",
    "states = ('Healthy', 'Fever')\n",
    "# 对应观测集合\n",
    "observations = ('normal', 'cold', 'dizzy')\n",
    "# 初始状态概率向量π\n",
    "start_probability = {'Healthy': 0.6, 'Fever': 0.4}\n",
    "# 状态转移矩阵A\n",
    "transition_probability = {\n",
    "    'Healthy': {'Healthy': 0.7, 'Fever': 0.3},\n",
    "    'Fever': {'Healthy': 0.4, 'Fever': 0.6},\n",
    "}\n",
    "# 观测概率矩阵B\n",
    "emission_probability = {\n",
    "    'Healthy': {'normal': 0.5, 'cold': 0.4, 'dizzy': 0.1},\n",
    "    'Fever': {'normal': 0.1, 'cold': 0.3, 'dizzy': 0.6},\n",
    "}"
   ]
  },
  {
   "cell_type": "code",
   "execution_count": 3,
   "metadata": {
    "collapsed": true
   },
   "outputs": [],
   "source": [
    "# 随机生成观测序列和状态序列    \n",
    "def simulate(T):\n",
    "\n",
    "    def draw_from(probs):\n",
    "        \"\"\"\n",
    "        1.np.random.multinomial:\n",
    "        按照多项式分布，生成数据\n",
    "        >>> np.random.multinomial(20, [1/6.]*6, size=2)\n",
    "                array([[3, 4, 3, 3, 4, 3],\n",
    "                       [2, 4, 3, 4, 0, 7]])\n",
    "         For the first run, we threw 3 times 1, 4 times 2, etc.  \n",
    "         For the second, we threw 2 times 1, 4 times 2, etc.\n",
    "        2.np.where:\n",
    "        >>> x = np.arange(9.).reshape(3, 3)\n",
    "        >>> np.where( x > 5 )\n",
    "        (array([2, 2, 2]), array([0, 1, 2]))\n",
    "        \"\"\"\n",
    "        return np.where(np.random.multinomial(1,probs) == 1)[0][0]\n",
    "\n",
    "    observations = np.zeros(T, dtype=int)\n",
    "    states = np.zeros(T, dtype=int)\n",
    "    states[0] = draw_from(pi)\n",
    "    observations[0] = draw_from(B[states[0],:])\n",
    "    for t in range(1, T):\n",
    "        states[t] = draw_from(A[states[t-1],:])\n",
    "        observations[t] = draw_from(B[states[t],:])\n",
    "    return observations,states"
   ]
  },
  {
   "cell_type": "code",
   "execution_count": 4,
   "metadata": {
    "collapsed": false
   },
   "outputs": [
    {
     "name": "stdout",
     "output_type": "stream",
     "text": [
      "{'Healthy': 0, 'Fever': 1} {0: 'Healthy', 1: 'Fever'}\n",
      "{'cold': 1, 'dizzy': 2, 'normal': 0} {0: 'normal', 1: 'cold', 2: 'dizzy'}\n"
     ]
    }
   ],
   "source": [
    "def generate_index_map(lables):\n",
    "    \"\"\"为label生成index\"\"\" \n",
    "    index_label = {}\n",
    "    label_index = {}\n",
    "    i = 0\n",
    "    for l in lables:\n",
    "        index_label[i] = l\n",
    "        label_index[l] = i\n",
    "        i += 1\n",
    "    return label_index, index_label\n",
    " \n",
    " \n",
    "states_label_index, states_index_label = generate_index_map(states)\n",
    "observations_label_index, observations_index_label = generate_index_map(observations)\n",
    "print states_label_index, states_index_label\n",
    "print observations_label_index, observations_index_label"
   ]
  },
  {
   "cell_type": "code",
   "execution_count": 5,
   "metadata": {
    "collapsed": true
   },
   "outputs": [],
   "source": [
    "def convert_observations_to_index(observations, label_index):\n",
    "    list = []\n",
    "    for o in observations:\n",
    "        list.append(label_index[o])\n",
    "    return list\n",
    " \n",
    " \n",
    "def convert_map_to_vector(map, label_index):\n",
    "    v = np.empty(len(map), dtype=float)\n",
    "    for e in map:\n",
    "        v[label_index[e]] = map[e]\n",
    "    return v\n",
    " \n",
    " \n",
    "def convert_map_to_matrix(map, label_index1, label_index2):\n",
    "    m = np.empty((len(label_index1), len(label_index2)), dtype=float)\n",
    "    for line in map:\n",
    "        for col in map[line]:\n",
    "            m[label_index1[line]][label_index2[col]] = map[line][col]\n",
    "    return m"
   ]
  },
  {
   "cell_type": "code",
   "execution_count": 6,
   "metadata": {
    "collapsed": false
   },
   "outputs": [
    {
     "name": "stdout",
     "output_type": "stream",
     "text": [
      "[[ 0.7  0.3]\n",
      " [ 0.4  0.6]]\n",
      "[[ 0.5  0.4  0.1]\n",
      " [ 0.1  0.3  0.6]]\n",
      "[ 0.6  0.4]\n"
     ]
    }
   ],
   "source": [
    "A = convert_map_to_matrix(transition_probability, states_label_index, states_label_index)\n",
    "print A\n",
    "B = convert_map_to_matrix(emission_probability, states_label_index, observations_label_index)\n",
    "print B\n",
    "observations_index = convert_observations_to_index(observations, observations_label_index)\n",
    "pi = convert_map_to_vector(start_probability, states_label_index)\n",
    "print pi"
   ]
  },
  {
   "cell_type": "code",
   "execution_count": 7,
   "metadata": {
    "collapsed": false
   },
   "outputs": [
    {
     "name": "stdout",
     "output_type": "stream",
     "text": [
      "[1 1 2 2 2 1 0 2 2 1]\n",
      "[0 0 1 1 1 0 0 1 1 1]\n",
      "['Healthy', 'Healthy', 'Fever', 'Fever', 'Fever', 'Healthy', 'Healthy', 'Fever', 'Fever', 'Fever']\n",
      "['cold', 'cold', 'dizzy', 'dizzy', 'dizzy', 'cold', 'normal', 'dizzy', 'dizzy', 'cold']\n"
     ]
    }
   ],
   "source": [
    "# 生成模拟数据\n",
    "observations_data, states_data = simulate(10)\n",
    "print observations_data\n",
    "print states_data\n",
    "# 相应的label\n",
    "print [states_index_label[index] for index in states_data]\n",
    "print [observations_index_label[index] for index in observations_data]"
   ]
  },
  {
   "cell_type": "markdown",
   "metadata": {
    "collapsed": true
   },
   "source": [
    "前向算法/后向算法python实现："
   ]
  },
  {
   "cell_type": "code",
   "execution_count": 8,
   "metadata": {
    "collapsed": false
   },
   "outputs": [],
   "source": [
    "def forward(obs_seq):\n",
    "    \"\"\"前向算法\"\"\"\n",
    "    N = A.shape[0]\n",
    "    T = len(obs_seq)\n",
    "\n",
    "    F = np.zeros((N,T))\n",
    "    F[:,0] = pi * B[:, obs_seq[0]]\n",
    "\n",
    "    for t in range(1, T):\n",
    "        for n in range(N):\n",
    "            F[n,t] = np.dot(F[:,t-1], (A[:,n])) * B[n, obs_seq[t]]\n",
    "\n",
    "    return F\n",
    "\n",
    "def backward(obs_seq):\n",
    "    \"\"\"后向算法\"\"\"\n",
    "    N = A.shape[0]\n",
    "    T = len(obs_seq)\n",
    "\n",
    "    X = np.zeros((N,T))\n",
    "    X[:,-1:] = 1\n",
    "\n",
    "    for t in reversed(range(T-1)):\n",
    "        for n in range(N):\n",
    "            X[n,t] = np.sum(X[:,t+1] * A[n,:] * B[:, obs_seq[t+1]])\n",
    "\n",
    "    return X"
   ]
  },
  {
   "cell_type": "markdown",
   "metadata": {},
   "source": []
  },
  {
   "cell_type": "code",
   "execution_count": 9,
   "metadata": {
    "collapsed": true
   },
   "outputs": [],
   "source": [
    "def baum_welch_train(observations, criterion=0.05):\n",
    "    \"\"\"无监督学习算法——Baum-Weich算法\"\"\"\n",
    "    n_states = A.shape[0]\n",
    "    n_samples = len(observations)\n",
    "\n",
    "    done = False\n",
    "    while not done:\n",
    "        # alpha_t(i) = P(O_1 O_2 ... O_t, q_t = S_i | hmm)\n",
    "        # Initialize alpha\n",
    "        alpha = forward(observations)\n",
    "\n",
    "        # beta_t(i) = P(O_t+1 O_t+2 ... O_T | q_t = S_i , hmm)\n",
    "        # Initialize beta\n",
    "        beta = backward(observations)\n",
    "\n",
    "        xi = np.zeros((n_states,n_states,n_samples-1))\n",
    "        for t in range(n_samples-1):\n",
    "            denom = np.dot(np.dot(alpha[:,t].T, A) * B[:,observations[t+1]].T, beta[:,t+1])\n",
    "            for i in range(n_states):\n",
    "                numer = alpha[i,t] * A[i,:] * B[:,observations[t+1]].T * beta[:,t+1].T\n",
    "                xi[i,:,t] = numer / denom\n",
    "\n",
    "        # gamma_t(i) = P(q_t = S_i | O, hmm)\n",
    "        gamma = np.sum(xi,axis=1)\n",
    "        # Need final gamma element for new B\n",
    "        prod =  (alpha[:,n_samples-1] * beta[:,n_samples-1]).reshape((-1,1))\n",
    "        gamma = np.hstack((gamma,  prod / np.sum(prod))) #append one more to gamma!!!\n",
    "\n",
    "        newpi = gamma[:,0]\n",
    "        newA = np.sum(xi,2) / np.sum(gamma[:,:-1],axis=1).reshape((-1,1))\n",
    "        newB = np.copy(B)\n",
    "\n",
    "        num_levels = B.shape[1]\n",
    "        sumgamma = np.sum(gamma,axis=1)\n",
    "        for lev in range(num_levels):\n",
    "            mask = observations == lev\n",
    "            newB[:,lev] = np.sum(gamma[:,mask],axis=1) / sumgamma\n",
    "\n",
    "        if np.max(abs(pi - newpi)) < criterion and \\\n",
    "                        np.max(abs(A - newA)) < criterion and \\\n",
    "                        np.max(abs(B - newB)) < criterion:\n",
    "            done = 1\n",
    "\n",
    "        A[:], B[:], pi[:] = newA, newB, newpi\n"
   ]
  },
  {
   "cell_type": "code",
   "execution_count": 10,
   "metadata": {
    "collapsed": true
   },
   "outputs": [],
   "source": [
    "def observation_prob(obs_seq):\n",
    "    \"\"\" P( entire observation sequence | A, B, pi ) \"\"\"\n",
    "    return np.sum(forward(obs_seq)[:,-1])\n",
    "\n",
    "def state_path(obs_seq):\n",
    "    \"\"\"\n",
    "    Returns\n",
    "    -------\n",
    "    V[last_state, -1] : float\n",
    "        Probability of the optimal state path\n",
    "    path : list(int)\n",
    "        Optimal state path for the observation sequence\n",
    "    \"\"\"\n",
    "    V, prev = viterbi(obs_seq)\n",
    "\n",
    "    # Build state path with greatest probability\n",
    "    last_state = np.argmax(V[:,-1])\n",
    "    path = list(build_viterbi_path(prev, last_state))\n",
    "\n",
    "    return V[last_state,-1], reversed(path)\n"
   ]
  },
  {
   "cell_type": "code",
   "execution_count": 11,
   "metadata": {
    "collapsed": true
   },
   "outputs": [],
   "source": [
    "def viterbi(obs_seq):\n",
    "    \"\"\"\n",
    "    Returns\n",
    "    -------\n",
    "    V : numpy.ndarray\n",
    "        V [s][t] = Maximum probability of an observation sequence ending\n",
    "                   at time 't' with final state 's'\n",
    "    prev : numpy.ndarray\n",
    "        Contains a pointer to the previous state at t-1 that maximizes\n",
    "        V[state][t]\n",
    "    \"\"\"\n",
    "    N = A.shape[0]\n",
    "    T = len(obs_seq)\n",
    "    prev = np.zeros((T - 1, N), dtype=int)\n",
    "\n",
    "    # DP matrix containing max likelihood of state at a given time\n",
    "    V = np.zeros((N, T))\n",
    "    V[:,0] = pi * B[:,obs_seq[0]]\n",
    "\n",
    "    for t in range(1, T):\n",
    "        for n in range(N):\n",
    "            seq_probs = V[:,t-1] * A[:,n] * B[n, obs_seq[t]]\n",
    "            prev[t-1,n] = np.argmax(seq_probs)\n",
    "            V[n,t] = np.max(seq_probs)\n",
    "\n",
    "    return V, prev\n",
    "\n",
    "def build_viterbi_path(prev, last_state):\n",
    "    \"\"\"Returns a state path ending in last_state in reverse order.\"\"\"\n",
    "    T = len(prev)\n",
    "    yield(last_state)\n",
    "    for i in range(T-1, -1, -1):\n",
    "        yield(prev[i, last_state])\n",
    "        last_state = prev[i, last_state]"
   ]
  },
  {
   "cell_type": "markdown",
   "metadata": {},
   "source": []
  },
  {
   "cell_type": "code",
   "execution_count": 13,
   "metadata": {
    "collapsed": false
   },
   "outputs": [
    {
     "name": "stdout",
     "output_type": "stream",
     "text": [
      "0.56\n"
     ]
    }
   ],
   "source": [
    "A = np.array([[0.5, 0.5],[0.5, 0.5]])\n",
    "B = np.array([[0.3, 0.3, 0.3],[0.3, 0.3, 0.3]])\n",
    "pi = np.array([0.5, 0.5])\n",
    "\n",
    "observations_data, states_data = simulate(100)\n",
    "# print observations_data\n",
    "# print states_data\n",
    "baum_welch_train(observations_data)\n",
    "states_out = state_path(observations_data)[1]\n",
    "p = 0.0\n",
    "for s in states_data:\n",
    "    if next(states_out) == s: p += 1\n",
    " \n",
    "print p / len(states_data)"
   ]
  },
  {
   "cell_type": "code",
   "execution_count": 15,
   "metadata": {
    "collapsed": false
   },
   "outputs": [
    {
     "name": "stdout",
     "output_type": "stream",
     "text": [
      "            normal       cold      dizzy\n",
      "Healthy:   0.300000   0.084000   0.005880\n",
      "  Fever:   0.040000   0.027000   0.015120\n",
      "\n",
      "The most possible states and probability are:\n",
      "Healthy Healthy Fever 0.01512\n"
     ]
    }
   ],
   "source": [
    "A = convert_map_to_matrix(transition_probability, states_label_index, states_label_index)\n",
    "B = convert_map_to_matrix(emission_probability, states_label_index, observations_label_index)\n",
    "observations_index = convert_observations_to_index(observations, observations_label_index)\n",
    "pi = convert_map_to_vector(start_probability, states_label_index)\n",
    "V, p = viterbi(observations_index)\n",
    "print \" \" * 7, \" \".join((\"%10s\" % observations_index_label[i]) for i in observations_index)\n",
    "for s in range(0, 2):\n",
    "    print \"%7s: \" % states_index_label[s] + \" \".join(\"%10s\" % (\"%f\" % v) for v in V[s])\n",
    "print '\\nThe most possible states and probability are:'\n",
    "p, ss = state_path(observations_index)\n",
    "for s in ss:\n",
    "    print states_index_label[s],\n",
    "print p"
   ]
  },
  {
   "cell_type": "markdown",
   "metadata": {},
   "source": [
    "隐马尔科夫用类包装的代码："
   ]
  },
  {
   "cell_type": "code",
   "execution_count": null,
   "metadata": {
    "collapsed": true
   },
   "outputs": [],
   "source": [
    "class HMM:\n",
    "    \"\"\"\n",
    "    Order 1 Hidden Markov Model\n",
    " \n",
    "    Attributes\n",
    "    ----------\n",
    "    A : numpy.ndarray\n",
    "        State transition probability matrix\n",
    "    B: numpy.ndarray\n",
    "        Output emission probability matrix with shape(N, number of output types)\n",
    "    pi: numpy.ndarray\n",
    "        Initial state probablity vector\n",
    "    \"\"\"\n",
    "    def __init__(self, A, B, pi):\n",
    "        self.A = A\n",
    "        self.B = B\n",
    "        self.pi = pi\n",
    "    \n",
    "    def simulate(self, T):\n",
    " \n",
    "        def draw_from(probs):\n",
    "        \"\"\"\n",
    "        1.np.random.multinomial:\n",
    "        按照多项式分布，生成数据\n",
    "        >>> np.random.multinomial(20, [1/6.]*6, size=2)\n",
    "                array([[3, 4, 3, 3, 4, 3],\n",
    "                       [2, 4, 3, 4, 0, 7]])\n",
    "         For the first run, we threw 3 times 1, 4 times 2, etc.  \n",
    "         For the second, we threw 2 times 1, 4 times 2, etc.\n",
    "        2.np.where:\n",
    "        >>> x = np.arange(9.).reshape(3, 3)\n",
    "        >>> np.where( x > 5 )\n",
    "        (array([2, 2, 2]), array([0, 1, 2]))\n",
    "        \"\"\"\n",
    "            return np.where(np.random.multinomial(1,probs) == 1)[0][0]\n",
    "\n",
    "        observations = np.zeros(T, dtype=int)\n",
    "        states = np.zeros(T, dtype=int)\n",
    "        states[0] = draw_from(self.pi)\n",
    "        observations[0] = draw_from(self.B[states[0],:])\n",
    "        for t in range(1, T):\n",
    "            states[t] = draw_from(self.A[states[t-1],:])\n",
    "            observations[t] = draw_from(self.B[states[t],:])\n",
    "        return observations,states\n",
    "    \n",
    "    def _forward(self, obs_seq):\n",
    "        \"\"\"前向算法\"\"\"\n",
    "        N = self.A.shape[0]\n",
    "        T = len(obs_seq)\n",
    "\n",
    "        F = np.zeros((N,T))\n",
    "        F[:,0] = self.pi * self.B[:, obs_seq[0]]\n",
    "\n",
    "        for t in range(1, T):\n",
    "            for n in range(N):\n",
    "                F[n,t] = np.dot(F[:,t-1], (self.A[:,n])) * self.B[n, obs_seq[t]]\n",
    "\n",
    "        return F\n",
    "    \n",
    "    def _backward(self, obs_seq):\n",
    "        \"\"\"后向算法\"\"\"\n",
    "        N = self.A.shape[0]\n",
    "        T = len(obs_seq)\n",
    "\n",
    "        X = np.zeros((N,T))\n",
    "        X[:,-1:] = 1\n",
    "\n",
    "        for t in reversed(range(T-1)):\n",
    "            for n in range(N):\n",
    "                X[n,t] = np.sum(X[:,t+1] * self.A[n,:] * self.B[:, obs_seq[t+1]])\n",
    "\n",
    "        return X\n",
    "    \n",
    "    def baum_welch_train(self, observations, criterion=0.05):\n",
    "        \"\"\"无监督学习算法——Baum-Weich算法\"\"\"\n",
    "        n_states = self.A.shape[0]\n",
    "        n_samples = len(observations)\n",
    "\n",
    "        done = False\n",
    "        while not done:\n",
    "            # alpha_t(i) = P(O_1 O_2 ... O_t, q_t = S_i | hmm)\n",
    "            # Initialize alpha\n",
    "            alpha = self._forward(observations)\n",
    "\n",
    "            # beta_t(i) = P(O_t+1 O_t+2 ... O_T | q_t = S_i , hmm)\n",
    "            # Initialize beta\n",
    "            beta = self._backward(observations)\n",
    "\n",
    "            xi = np.zeros((n_states,n_states,n_samples-1))\n",
    "            for t in range(n_samples-1):\n",
    "                denom = np.dot(np.dot(alpha[:,t].T, self.A) * self.B[:,observations[t+1]].T, beta[:,t+1])\n",
    "                for i in range(n_states):\n",
    "                    numer = alpha[i,t] * self.A[i,:] * self.B[:,observations[t+1]].T * beta[:,t+1].T\n",
    "                    xi[i,:,t] = numer / denom\n",
    "\n",
    "            # gamma_t(i) = P(q_t = S_i | O, hmm)\n",
    "            gamma = np.sum(xi,axis=1)\n",
    "            # Need final gamma element for new B\n",
    "            prod =  (alpha[:,n_samples-1] * beta[:,n_samples-1]).reshape((-1,1))\n",
    "            gamma = np.hstack((gamma,  prod / np.sum(prod))) #append one more to gamma!!!\n",
    "\n",
    "            newpi = gamma[:,0]\n",
    "            newA = np.sum(xi,2) / np.sum(gamma[:,:-1],axis=1).reshape((-1,1))\n",
    "            newB = np.copy(self.B)\n",
    "\n",
    "            num_levels = self.B.shape[1]\n",
    "            sumgamma = np.sum(gamma,axis=1)\n",
    "            for lev in range(num_levels):\n",
    "                mask = observations == lev\n",
    "                newB[:,lev] = np.sum(gamma[:,mask],axis=1) / sumgamma\n",
    "\n",
    "            if np.max(abs(self.pi - newpi)) < criterion and \\\n",
    "                            np.max(abs(self.A - newA)) < criterion and \\\n",
    "                            np.max(abs(self.B - newB)) < criterion:\n",
    "                done = 1\n",
    "\n",
    "            self.A[:],self.B[:],self.pi[:] = newA,newB,newpi\n",
    "    \n",
    "    def observation_prob(self, obs_seq):\n",
    "        \"\"\" P( entire observation sequence | A, B, pi ) \"\"\"\n",
    "        return np.sum(self._forward(obs_seq)[:,-1])\n",
    "\n",
    "    def state_path(self, obs_seq):\n",
    "        \"\"\"\n",
    "        Returns\n",
    "        -------\n",
    "        V[last_state, -1] : float\n",
    "            Probability of the optimal state path\n",
    "        path : list(int)\n",
    "            Optimal state path for the observation sequence\n",
    "        \"\"\"\n",
    "        V, prev = self.viterbi(obs_seq)\n",
    "\n",
    "        # Build state path with greatest probability\n",
    "        last_state = np.argmax(V[:,-1])\n",
    "        path = list(self.build_viterbi_path(prev, last_state))\n",
    "\n",
    "        return V[last_state,-1], reversed(path)\n",
    "\n",
    "    def viterbi(self, obs_seq):\n",
    "        \"\"\"\n",
    "        Returns\n",
    "        -------\n",
    "        V : numpy.ndarray\n",
    "            V [s][t] = Maximum probability of an observation sequence ending\n",
    "                       at time 't' with final state 's'\n",
    "        prev : numpy.ndarray\n",
    "            Contains a pointer to the previous state at t-1 that maximizes\n",
    "            V[state][t]\n",
    "        \"\"\"\n",
    "        N = self.A.shape[0]\n",
    "        T = len(obs_seq)\n",
    "        prev = np.zeros((T - 1, N), dtype=int)\n",
    "\n",
    "        # DP matrix containing max likelihood of state at a given time\n",
    "        V = np.zeros((N, T))\n",
    "        V[:,0] = self.pi * self.B[:,obs_seq[0]]\n",
    "\n",
    "        for t in range(1, T):\n",
    "            for n in range(N):\n",
    "                seq_probs = V[:,t-1] * self.A[:,n] * self.B[n, obs_seq[t]]\n",
    "                prev[t-1,n] = np.argmax(seq_probs)\n",
    "                V[n,t] = np.max(seq_probs)\n",
    "\n",
    "        return V, prev\n",
    "\n",
    "    def build_viterbi_path(self, prev, last_state):\n",
    "        \"\"\"Returns a state path ending in last_state in reverse order.\"\"\"\n",
    "        T = len(prev)\n",
    "        yield(last_state)\n",
    "        for i in range(T-1, -1, -1):\n",
    "            yield(prev[i, last_state])\n",
    "            last_state = prev[i, last_state]"
   ]
  }
 ],
 "metadata": {
  "anaconda-cloud": {},
  "kernelspec": {
   "display_name": "Python [default]",
   "language": "python",
   "name": "python2"
  },
  "language_info": {
   "codemirror_mode": {
    "name": "ipython",
    "version": 2
   },
   "file_extension": ".py",
   "mimetype": "text/x-python",
   "name": "python",
   "nbconvert_exporter": "python",
   "pygments_lexer": "ipython2",
   "version": "2.7.12"
  }
 },
 "nbformat": 4,
 "nbformat_minor": 0
}
